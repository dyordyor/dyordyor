{
 "cells": [
  {
   "cell_type": "markdown",
   "id": "6f0c15f2",
   "metadata": {},
   "source": [
    "The code reads each CSV file in the specified directory, concatenates them into a single DataFrame (df), and performs various data cleaning operations such as removing \"=\" and \"\" signs from column names, replacing text in the profile_url column, and renaming the profile_url column to Link. The resulting DataFrame will contain the columns Link, followers_count, username, and following_count."
   ]
  },
  {
   "cell_type": "code",
   "execution_count": 2,
   "id": "393292ab",
   "metadata": {},
   "outputs": [],
   "source": [
    "import os\n",
    "import pandas as pd\n",
    "\n",
    "# Directory where the CSV files are located\n",
    "directory = \"Twitter/CSV files\"\n",
    "\n",
    "# List to store all DataFrames\n",
    "df_list = []\n",
    "\n",
    "# Loop through all CSV files in the directory\n",
    "for filename in os.listdir(directory):\n",
    "    if filename.endswith(\".csv\"):\n",
    "        # Read the CSV file into a DataFrame and append it to the list\n",
    "        df = pd.read_csv(os.path.join(directory, filename))\n",
    "        df_list.append(df)\n",
    "\n",
    "# Concatenate all DataFrames into a single DataFrame\n",
    "df = pd.concat(df_list, ignore_index=True)"
   ]
  },
  {
   "cell_type": "code",
   "execution_count": 4,
   "id": "25971f6b",
   "metadata": {},
   "outputs": [],
   "source": [
    "# remove \"=\" and \"\" signs from column names\n",
    "df.columns = df.columns.str.replace('=', '').str.replace('\"', '')\n",
    "\n",
    "# select the desired columns\n",
    "df = df[['profile_url', 'followers_count', 'username', 'following_count']]"
   ]
  },
  {
   "cell_type": "code",
   "execution_count": 6,
   "id": "95196b5d",
   "metadata": {},
   "outputs": [
    {
     "name": "stderr",
     "output_type": "stream",
     "text": [
      "C:\\Users\\Асхат\\AppData\\Local\\Temp\\ipykernel_6048\\35541580.py:2: SettingWithCopyWarning: \n",
      "A value is trying to be set on a copy of a slice from a DataFrame.\n",
      "Try using .loc[row_indexer,col_indexer] = value instead\n",
      "\n",
      "See the caveats in the documentation: https://pandas.pydata.org/pandas-docs/stable/user_guide/indexing.html#returning-a-view-versus-a-copy\n",
      "  df['profile_url'] = df['profile_url'].str.replace('=', '').str.replace('\"', '')\n",
      "C:\\Users\\Асхат\\AppData\\Local\\Temp\\ipykernel_6048\\35541580.py:3: SettingWithCopyWarning: \n",
      "A value is trying to be set on a copy of a slice from a DataFrame.\n",
      "Try using .loc[row_indexer,col_indexer] = value instead\n",
      "\n",
      "See the caveats in the documentation: https://pandas.pydata.org/pandas-docs/stable/user_guide/indexing.html#returning-a-view-versus-a-copy\n",
      "  df['username'] = df['username'].str.replace('=', '').str.replace('\"', '')\n"
     ]
    }
   ],
   "source": [
    "# remove \"=\" and \"\" signs from profile_url and username columns\n",
    "df['profile_url'] = df['profile_url'].str.replace('=', '').str.replace('\"', '')\n",
    "df['username'] = df['username'].str.replace('=', '').str.replace('\"', '')"
   ]
  },
  {
   "cell_type": "code",
   "execution_count": 8,
   "id": "8149e3b4",
   "metadata": {},
   "outputs": [
    {
     "name": "stderr",
     "output_type": "stream",
     "text": [
      "C:\\Users\\Асхат\\AppData\\Local\\Temp\\ipykernel_6048\\2539226296.py:2: FutureWarning: The default value of regex will change from True to False in a future version.\n",
      "  df['profile_url'] = df['profile_url'].str.replace('https://www.twitter.com/', 'https://twitter.com/')\n",
      "C:\\Users\\Асхат\\AppData\\Local\\Temp\\ipykernel_6048\\2539226296.py:2: SettingWithCopyWarning: \n",
      "A value is trying to be set on a copy of a slice from a DataFrame.\n",
      "Try using .loc[row_indexer,col_indexer] = value instead\n",
      "\n",
      "See the caveats in the documentation: https://pandas.pydata.org/pandas-docs/stable/user_guide/indexing.html#returning-a-view-versus-a-copy\n",
      "  df['profile_url'] = df['profile_url'].str.replace('https://www.twitter.com/', 'https://twitter.com/')\n"
     ]
    }
   ],
   "source": [
    "# replace \"https://www.twitter.com/\" with \"https://twitter.com/\" in profile_url column\n",
    "df['profile_url'] = df['profile_url'].str.replace('https://www.twitter.com/', 'https://twitter.com/')"
   ]
  },
  {
   "cell_type": "code",
   "execution_count": 11,
   "id": "b4f24418",
   "metadata": {},
   "outputs": [],
   "source": [
    "# rename profile_url column to Link\n",
    "df = df.rename(columns={'profile_url': 'Link'})"
   ]
  },
  {
   "cell_type": "code",
   "execution_count": 12,
   "id": "00907ca5",
   "metadata": {},
   "outputs": [],
   "source": [
    "df.to_excel('tweets_from_CSV.xlsx')"
   ]
  }
 ],
 "metadata": {
  "kernelspec": {
   "display_name": "Python 3 (ipykernel)",
   "language": "python",
   "name": "python3"
  },
  "language_info": {
   "codemirror_mode": {
    "name": "ipython",
    "version": 3
   },
   "file_extension": ".py",
   "mimetype": "text/x-python",
   "name": "python",
   "nbconvert_exporter": "python",
   "pygments_lexer": "ipython3",
   "version": "3.9.13"
  }
 },
 "nbformat": 4,
 "nbformat_minor": 5
}
